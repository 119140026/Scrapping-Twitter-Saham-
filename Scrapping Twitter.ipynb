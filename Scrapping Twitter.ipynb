{
  "nbformat": 4,
  "nbformat_minor": 0,
  "metadata": {
    "colab": {
      "name": "119140026_RA.ipynb",
      "provenance": [],
      "collapsed_sections": []
    },
    "kernelspec": {
      "name": "python3",
      "display_name": "Python 3"
    },
    "language_info": {
      "name": "python"
    }
  },
  "cells": [
    {
      "cell_type": "code",
      "source": [
        "import tweepy\n",
        "import configparser\n",
        "import pandas as pd\n",
        "import re\n",
        "import itertools as iter\n",
        "import collections\n",
        "import matplotlib.pyplot as plt\n",
        "import seaborn as sns"
      ],
      "metadata": {
        "id": "BUs0upDYUBD3"
      },
      "execution_count": 3,
      "outputs": []
    },
    {
      "cell_type": "code",
      "source": [
        "config = configparser.ConfigParser()\n",
        "config.read('config.ini')\n",
        "\n",
        "api_key = 'sIBjK23hz7SJdZBFiPrV9Z7tQ'\n",
        "api_key_secret = 'iuCl2PXg0UoOxeU1AVzafQIGQ33uekgelwxVFfWUxeZDYQ1YpB'\n",
        "\n",
        "access_token = '2417601639-sjTIQhgHkMPnLNWt6cSOzIRZOggS1ZyalSWh91L'\n",
        "access_token_secret = 'swTQsWo9tD3Zk7jA6DtMkkw3sibNc8WESN7wqXmOqPifP'"
      ],
      "metadata": {
        "id": "o92IJNMNUDkW"
      },
      "execution_count": 4,
      "outputs": []
    },
    {
      "cell_type": "code",
      "source": [
        "auth = tweepy.OAuthHandler(api_key, api_key_secret)\n",
        "auth.set_access_token(access_token, access_token_secret)\n",
        "\n",
        "api = tweepy.API(auth, wait_on_rate_limit=True)"
      ],
      "metadata": {
        "id": "p6ijCnFiUE7a"
      },
      "execution_count": 5,
      "outputs": []
    },
    {
      "cell_type": "code",
      "source": [
        "columns = ['Time', 'ID', 'User','Name','User Status Count', 'Tweet', 'Favorite','Retweets Count','Device']\n",
        "data = []\n",
        "key='saham'\n",
        "\n",
        "for tweet in tweepy.Cursor(api.search, q=key, lang=\"en\").items(500):\n",
        "    \n",
        "    data.append([tweet.created_at, tweet.id, tweet.user.screen_name, tweet.user.name, tweet.user.statuses_count, tweet.text, \n",
        "                 tweet.favorite_count, tweet.retweet_count,  tweet.source])\n",
        "\n",
        "df = pd.DataFrame(data, columns = columns)\n",
        "print(df)"
      ],
      "metadata": {
        "colab": {
          "base_uri": "https://localhost:8080/"
        },
        "id": "hSFnyAbiUXgF",
        "outputId": "cb91f54e-4d6b-43d7-ff3c-f5568721a48d"
      },
      "execution_count": 6,
      "outputs": [
        {
          "output_type": "stream",
          "name": "stdout",
          "text": [
            "                   Time                   ID             User  \\\n",
            "0   2022-03-28 09:37:49  1508377813950210048          hlmshkr   \n",
            "1   2022-03-28 09:28:52  1508375558874288134      SatrioAkira   \n",
            "2   2022-03-28 08:56:46  1508367480485720068         KiwoomID   \n",
            "3   2022-03-28 08:15:33  1508357111482241028      SatrioAkira   \n",
            "4   2022-03-28 07:41:30  1508348540787249154         bellaokt   \n",
            "..                  ...                  ...              ...   \n",
            "495 2022-03-22 03:02:45  1506104065495027715       Mani981230   \n",
            "496 2022-03-22 03:01:43  1506103803111636994       Saham_fess   \n",
            "497 2022-03-22 03:01:01  1506103629178019841  RajuAku14865042   \n",
            "498 2022-03-22 02:56:42  1506102539887947777    bayuwicakcana   \n",
            "499 2022-03-22 02:55:23  1506102207954886658    SaiPawanist13   \n",
            "\n",
            "                                       Name  User Status Count  \\\n",
            "0                                 Mindscape               3915   \n",
            "1    DM or Join Tele. Satrio Akira Hantanto                721   \n",
            "2                Kiwoom Sekuritas Indonesia              21488   \n",
            "3    DM or Join Tele. Satrio Akira Hantanto                721   \n",
            "4                          JUAL FROZEN FOOD              64796   \n",
            "..                                      ...                ...   \n",
            "495                               MaNIkanTA              62903   \n",
            "496                             Sahamfess 📈              32136   \n",
            "497                              Raju Akula               4252   \n",
            "498                                saya ini               3104   \n",
            "499                            Sai Pawanist              14313   \n",
            "\n",
            "                                                 Tweet  Favorite  \\\n",
            "0    next coding project Screener saham with @_ifza...         0   \n",
            "1                                     @Saham_fess Hold         0   \n",
            "2    Closing II 28 Maret 2022  #kiwoomsekuritas #sa...         0   \n",
            "3                                     @Saham_fess Hold         0   \n",
            "4                            @Saham_fess Happy Cuanki😗         0   \n",
            "..                                                 ...       ...   \n",
            "495  RT @PKadmirer03: Ippudu ok kadhamma never try ...         0   \n",
            "496                                    bike hold? shm!         0   \n",
            "497  RT @PKadmirer03: Ippudu ok kadhamma never try ...         0   \n",
            "498                                   @Saham_fess Bbca         0   \n",
            "499  RT @PKadmirer03: Ippudu ok kadhamma never try ...         0   \n",
            "\n",
            "     Retweets Count               Device  \n",
            "0                 0   Twitter for iPhone  \n",
            "1                 0  Twitter for Android  \n",
            "2                 0      Twitter Web App  \n",
            "3                 0  Twitter for Android  \n",
            "4                 0   Twitter for iPhone  \n",
            "..              ...                  ...  \n",
            "495             197  Twitter for Android  \n",
            "496               0         Saham fess 📈  \n",
            "497             197  Twitter for Android  \n",
            "498               0  Twitter for Android  \n",
            "499             197  Twitter for Android  \n",
            "\n",
            "[500 rows x 9 columns]\n"
          ]
        }
      ]
    },
    {
      "cell_type": "code",
      "source": [
        "df.to_csv('119140026-RA.csv')"
      ],
      "metadata": {
        "id": "4wNMgo4YqOB2"
      },
      "execution_count": 7,
      "outputs": []
    },
    {
      "cell_type": "code",
      "source": [
        "pd.DataFrame(df)"
      ],
      "metadata": {
        "colab": {
          "base_uri": "https://localhost:8080/",
          "height": 658
        },
        "id": "TsGkGWGw6DZp",
        "outputId": "444c4c52-ba08-4d28-f914-ccdc0e039826"
      },
      "execution_count": 8,
      "outputs": [
        {
          "output_type": "execute_result",
          "data": {
            "text/plain": [
              "                   Time                   ID             User  \\\n",
              "0   2022-03-28 09:37:49  1508377813950210048          hlmshkr   \n",
              "1   2022-03-28 09:28:52  1508375558874288134      SatrioAkira   \n",
              "2   2022-03-28 08:56:46  1508367480485720068         KiwoomID   \n",
              "3   2022-03-28 08:15:33  1508357111482241028      SatrioAkira   \n",
              "4   2022-03-28 07:41:30  1508348540787249154         bellaokt   \n",
              "..                  ...                  ...              ...   \n",
              "495 2022-03-22 03:02:45  1506104065495027715       Mani981230   \n",
              "496 2022-03-22 03:01:43  1506103803111636994       Saham_fess   \n",
              "497 2022-03-22 03:01:01  1506103629178019841  RajuAku14865042   \n",
              "498 2022-03-22 02:56:42  1506102539887947777    bayuwicakcana   \n",
              "499 2022-03-22 02:55:23  1506102207954886658    SaiPawanist13   \n",
              "\n",
              "                                       Name  User Status Count  \\\n",
              "0                                 Mindscape               3915   \n",
              "1    DM or Join Tele. Satrio Akira Hantanto                721   \n",
              "2                Kiwoom Sekuritas Indonesia              21488   \n",
              "3    DM or Join Tele. Satrio Akira Hantanto                721   \n",
              "4                          JUAL FROZEN FOOD              64796   \n",
              "..                                      ...                ...   \n",
              "495                               MaNIkanTA              62903   \n",
              "496                             Sahamfess 📈              32136   \n",
              "497                              Raju Akula               4252   \n",
              "498                                saya ini               3104   \n",
              "499                            Sai Pawanist              14313   \n",
              "\n",
              "                                                 Tweet  Favorite  \\\n",
              "0    next coding project Screener saham with @_ifza...         0   \n",
              "1                                     @Saham_fess Hold         0   \n",
              "2    Closing II 28 Maret 2022  #kiwoomsekuritas #sa...         0   \n",
              "3                                     @Saham_fess Hold         0   \n",
              "4                            @Saham_fess Happy Cuanki😗         0   \n",
              "..                                                 ...       ...   \n",
              "495  RT @PKadmirer03: Ippudu ok kadhamma never try ...         0   \n",
              "496                                    bike hold? shm!         0   \n",
              "497  RT @PKadmirer03: Ippudu ok kadhamma never try ...         0   \n",
              "498                                   @Saham_fess Bbca         0   \n",
              "499  RT @PKadmirer03: Ippudu ok kadhamma never try ...         0   \n",
              "\n",
              "     Retweets Count               Device  \n",
              "0                 0   Twitter for iPhone  \n",
              "1                 0  Twitter for Android  \n",
              "2                 0      Twitter Web App  \n",
              "3                 0  Twitter for Android  \n",
              "4                 0   Twitter for iPhone  \n",
              "..              ...                  ...  \n",
              "495             197  Twitter for Android  \n",
              "496               0         Saham fess 📈  \n",
              "497             197  Twitter for Android  \n",
              "498               0  Twitter for Android  \n",
              "499             197  Twitter for Android  \n",
              "\n",
              "[500 rows x 9 columns]"
            ],
            "text/html": [
              "\n",
              "  <div id=\"df-566f643d-ea9a-4b6e-aefe-9164236baf65\">\n",
              "    <div class=\"colab-df-container\">\n",
              "      <div>\n",
              "<style scoped>\n",
              "    .dataframe tbody tr th:only-of-type {\n",
              "        vertical-align: middle;\n",
              "    }\n",
              "\n",
              "    .dataframe tbody tr th {\n",
              "        vertical-align: top;\n",
              "    }\n",
              "\n",
              "    .dataframe thead th {\n",
              "        text-align: right;\n",
              "    }\n",
              "</style>\n",
              "<table border=\"1\" class=\"dataframe\">\n",
              "  <thead>\n",
              "    <tr style=\"text-align: right;\">\n",
              "      <th></th>\n",
              "      <th>Time</th>\n",
              "      <th>ID</th>\n",
              "      <th>User</th>\n",
              "      <th>Name</th>\n",
              "      <th>User Status Count</th>\n",
              "      <th>Tweet</th>\n",
              "      <th>Favorite</th>\n",
              "      <th>Retweets Count</th>\n",
              "      <th>Device</th>\n",
              "    </tr>\n",
              "  </thead>\n",
              "  <tbody>\n",
              "    <tr>\n",
              "      <th>0</th>\n",
              "      <td>2022-03-28 09:37:49</td>\n",
              "      <td>1508377813950210048</td>\n",
              "      <td>hlmshkr</td>\n",
              "      <td>Mindscape</td>\n",
              "      <td>3915</td>\n",
              "      <td>next coding project Screener saham with @_ifza...</td>\n",
              "      <td>0</td>\n",
              "      <td>0</td>\n",
              "      <td>Twitter for iPhone</td>\n",
              "    </tr>\n",
              "    <tr>\n",
              "      <th>1</th>\n",
              "      <td>2022-03-28 09:28:52</td>\n",
              "      <td>1508375558874288134</td>\n",
              "      <td>SatrioAkira</td>\n",
              "      <td>DM or Join Tele. Satrio Akira Hantanto</td>\n",
              "      <td>721</td>\n",
              "      <td>@Saham_fess Hold</td>\n",
              "      <td>0</td>\n",
              "      <td>0</td>\n",
              "      <td>Twitter for Android</td>\n",
              "    </tr>\n",
              "    <tr>\n",
              "      <th>2</th>\n",
              "      <td>2022-03-28 08:56:46</td>\n",
              "      <td>1508367480485720068</td>\n",
              "      <td>KiwoomID</td>\n",
              "      <td>Kiwoom Sekuritas Indonesia</td>\n",
              "      <td>21488</td>\n",
              "      <td>Closing II 28 Maret 2022  #kiwoomsekuritas #sa...</td>\n",
              "      <td>0</td>\n",
              "      <td>0</td>\n",
              "      <td>Twitter Web App</td>\n",
              "    </tr>\n",
              "    <tr>\n",
              "      <th>3</th>\n",
              "      <td>2022-03-28 08:15:33</td>\n",
              "      <td>1508357111482241028</td>\n",
              "      <td>SatrioAkira</td>\n",
              "      <td>DM or Join Tele. Satrio Akira Hantanto</td>\n",
              "      <td>721</td>\n",
              "      <td>@Saham_fess Hold</td>\n",
              "      <td>0</td>\n",
              "      <td>0</td>\n",
              "      <td>Twitter for Android</td>\n",
              "    </tr>\n",
              "    <tr>\n",
              "      <th>4</th>\n",
              "      <td>2022-03-28 07:41:30</td>\n",
              "      <td>1508348540787249154</td>\n",
              "      <td>bellaokt</td>\n",
              "      <td>JUAL FROZEN FOOD</td>\n",
              "      <td>64796</td>\n",
              "      <td>@Saham_fess Happy Cuanki😗</td>\n",
              "      <td>0</td>\n",
              "      <td>0</td>\n",
              "      <td>Twitter for iPhone</td>\n",
              "    </tr>\n",
              "    <tr>\n",
              "      <th>...</th>\n",
              "      <td>...</td>\n",
              "      <td>...</td>\n",
              "      <td>...</td>\n",
              "      <td>...</td>\n",
              "      <td>...</td>\n",
              "      <td>...</td>\n",
              "      <td>...</td>\n",
              "      <td>...</td>\n",
              "      <td>...</td>\n",
              "    </tr>\n",
              "    <tr>\n",
              "      <th>495</th>\n",
              "      <td>2022-03-22 03:02:45</td>\n",
              "      <td>1506104065495027715</td>\n",
              "      <td>Mani981230</td>\n",
              "      <td>MaNIkanTA</td>\n",
              "      <td>62903</td>\n",
              "      <td>RT @PKadmirer03: Ippudu ok kadhamma never try ...</td>\n",
              "      <td>0</td>\n",
              "      <td>197</td>\n",
              "      <td>Twitter for Android</td>\n",
              "    </tr>\n",
              "    <tr>\n",
              "      <th>496</th>\n",
              "      <td>2022-03-22 03:01:43</td>\n",
              "      <td>1506103803111636994</td>\n",
              "      <td>Saham_fess</td>\n",
              "      <td>Sahamfess 📈</td>\n",
              "      <td>32136</td>\n",
              "      <td>bike hold? shm!</td>\n",
              "      <td>0</td>\n",
              "      <td>0</td>\n",
              "      <td>Saham fess 📈</td>\n",
              "    </tr>\n",
              "    <tr>\n",
              "      <th>497</th>\n",
              "      <td>2022-03-22 03:01:01</td>\n",
              "      <td>1506103629178019841</td>\n",
              "      <td>RajuAku14865042</td>\n",
              "      <td>Raju Akula</td>\n",
              "      <td>4252</td>\n",
              "      <td>RT @PKadmirer03: Ippudu ok kadhamma never try ...</td>\n",
              "      <td>0</td>\n",
              "      <td>197</td>\n",
              "      <td>Twitter for Android</td>\n",
              "    </tr>\n",
              "    <tr>\n",
              "      <th>498</th>\n",
              "      <td>2022-03-22 02:56:42</td>\n",
              "      <td>1506102539887947777</td>\n",
              "      <td>bayuwicakcana</td>\n",
              "      <td>saya ini</td>\n",
              "      <td>3104</td>\n",
              "      <td>@Saham_fess Bbca</td>\n",
              "      <td>0</td>\n",
              "      <td>0</td>\n",
              "      <td>Twitter for Android</td>\n",
              "    </tr>\n",
              "    <tr>\n",
              "      <th>499</th>\n",
              "      <td>2022-03-22 02:55:23</td>\n",
              "      <td>1506102207954886658</td>\n",
              "      <td>SaiPawanist13</td>\n",
              "      <td>Sai Pawanist</td>\n",
              "      <td>14313</td>\n",
              "      <td>RT @PKadmirer03: Ippudu ok kadhamma never try ...</td>\n",
              "      <td>0</td>\n",
              "      <td>197</td>\n",
              "      <td>Twitter for Android</td>\n",
              "    </tr>\n",
              "  </tbody>\n",
              "</table>\n",
              "<p>500 rows × 9 columns</p>\n",
              "</div>\n",
              "      <button class=\"colab-df-convert\" onclick=\"convertToInteractive('df-566f643d-ea9a-4b6e-aefe-9164236baf65')\"\n",
              "              title=\"Convert this dataframe to an interactive table.\"\n",
              "              style=\"display:none;\">\n",
              "        \n",
              "  <svg xmlns=\"http://www.w3.org/2000/svg\" height=\"24px\"viewBox=\"0 0 24 24\"\n",
              "       width=\"24px\">\n",
              "    <path d=\"M0 0h24v24H0V0z\" fill=\"none\"/>\n",
              "    <path d=\"M18.56 5.44l.94 2.06.94-2.06 2.06-.94-2.06-.94-.94-2.06-.94 2.06-2.06.94zm-11 1L8.5 8.5l.94-2.06 2.06-.94-2.06-.94L8.5 2.5l-.94 2.06-2.06.94zm10 10l.94 2.06.94-2.06 2.06-.94-2.06-.94-.94-2.06-.94 2.06-2.06.94z\"/><path d=\"M17.41 7.96l-1.37-1.37c-.4-.4-.92-.59-1.43-.59-.52 0-1.04.2-1.43.59L10.3 9.45l-7.72 7.72c-.78.78-.78 2.05 0 2.83L4 21.41c.39.39.9.59 1.41.59.51 0 1.02-.2 1.41-.59l7.78-7.78 2.81-2.81c.8-.78.8-2.07 0-2.86zM5.41 20L4 18.59l7.72-7.72 1.47 1.35L5.41 20z\"/>\n",
              "  </svg>\n",
              "      </button>\n",
              "      \n",
              "  <style>\n",
              "    .colab-df-container {\n",
              "      display:flex;\n",
              "      flex-wrap:wrap;\n",
              "      gap: 12px;\n",
              "    }\n",
              "\n",
              "    .colab-df-convert {\n",
              "      background-color: #E8F0FE;\n",
              "      border: none;\n",
              "      border-radius: 50%;\n",
              "      cursor: pointer;\n",
              "      display: none;\n",
              "      fill: #1967D2;\n",
              "      height: 32px;\n",
              "      padding: 0 0 0 0;\n",
              "      width: 32px;\n",
              "    }\n",
              "\n",
              "    .colab-df-convert:hover {\n",
              "      background-color: #E2EBFA;\n",
              "      box-shadow: 0px 1px 2px rgba(60, 64, 67, 0.3), 0px 1px 3px 1px rgba(60, 64, 67, 0.15);\n",
              "      fill: #174EA6;\n",
              "    }\n",
              "\n",
              "    [theme=dark] .colab-df-convert {\n",
              "      background-color: #3B4455;\n",
              "      fill: #D2E3FC;\n",
              "    }\n",
              "\n",
              "    [theme=dark] .colab-df-convert:hover {\n",
              "      background-color: #434B5C;\n",
              "      box-shadow: 0px 1px 3px 1px rgba(0, 0, 0, 0.15);\n",
              "      filter: drop-shadow(0px 1px 2px rgba(0, 0, 0, 0.3));\n",
              "      fill: #FFFFFF;\n",
              "    }\n",
              "  </style>\n",
              "\n",
              "      <script>\n",
              "        const buttonEl =\n",
              "          document.querySelector('#df-566f643d-ea9a-4b6e-aefe-9164236baf65 button.colab-df-convert');\n",
              "        buttonEl.style.display =\n",
              "          google.colab.kernel.accessAllowed ? 'block' : 'none';\n",
              "\n",
              "        async function convertToInteractive(key) {\n",
              "          const element = document.querySelector('#df-566f643d-ea9a-4b6e-aefe-9164236baf65');\n",
              "          const dataTable =\n",
              "            await google.colab.kernel.invokeFunction('convertToInteractive',\n",
              "                                                     [key], {});\n",
              "          if (!dataTable) return;\n",
              "\n",
              "          const docLinkHtml = 'Like what you see? Visit the ' +\n",
              "            '<a target=\"_blank\" href=https://colab.research.google.com/notebooks/data_table.ipynb>data table notebook</a>'\n",
              "            + ' to learn more about interactive tables.';\n",
              "          element.innerHTML = '';\n",
              "          dataTable['output_type'] = 'display_data';\n",
              "          await google.colab.output.renderOutput(dataTable, element);\n",
              "          const docLink = document.createElement('div');\n",
              "          docLink.innerHTML = docLinkHtml;\n",
              "          element.appendChild(docLink);\n",
              "        }\n",
              "      </script>\n",
              "    </div>\n",
              "  </div>\n",
              "  "
            ]
          },
          "metadata": {},
          "execution_count": 8
        }
      ]
    },
    {
      "cell_type": "code",
      "source": [
        "df.info()"
      ],
      "metadata": {
        "colab": {
          "base_uri": "https://localhost:8080/"
        },
        "id": "kqkxQzle5snh",
        "outputId": "7188d000-0ac4-4b60-f600-afbb9b7efd63"
      },
      "execution_count": 9,
      "outputs": [
        {
          "output_type": "stream",
          "name": "stdout",
          "text": [
            "<class 'pandas.core.frame.DataFrame'>\n",
            "RangeIndex: 500 entries, 0 to 499\n",
            "Data columns (total 9 columns):\n",
            " #   Column             Non-Null Count  Dtype         \n",
            "---  ------             --------------  -----         \n",
            " 0   Time               500 non-null    datetime64[ns]\n",
            " 1   ID                 500 non-null    int64         \n",
            " 2   User               500 non-null    object        \n",
            " 3   Name               500 non-null    object        \n",
            " 4   User Status Count  500 non-null    int64         \n",
            " 5   Tweet              500 non-null    object        \n",
            " 6   Favorite           500 non-null    int64         \n",
            " 7   Retweets Count     500 non-null    int64         \n",
            " 8   Device             500 non-null    object        \n",
            "dtypes: datetime64[ns](1), int64(4), object(4)\n",
            "memory usage: 35.3+ KB\n"
          ]
        }
      ]
    },
    {
      "cell_type": "code",
      "source": [
        "list_tweet = tweepy.Cursor(api.search,\n",
        "                           q=key,lang='en').items(1000)\n",
        "\n",
        "all_tweet = [tweet.text for tweet in list_tweet]\n",
        "all_tweet [:10]"
      ],
      "metadata": {
        "colab": {
          "base_uri": "https://localhost:8080/"
        },
        "id": "l1Y25P08WR5l",
        "outputId": "654931ce-7e54-46bb-ae36-d2e02cd7ba5d"
      },
      "execution_count": 10,
      "outputs": [
        {
          "output_type": "execute_result",
          "data": {
            "text/plain": [
              "['next coding project Screener saham with @_ifzat , then a long term indie game and a home automation solution.  Exciting plan ahead',\n",
              " '@Saham_fess Hold',\n",
              " 'Closing II 28 Maret 2022  #kiwoomsekuritas #saham #hero #stockmarkets #ihsg https://t.co/Rzu2JFj24Y',\n",
              " '@Saham_fess Hold',\n",
              " '@Saham_fess Happy Cuanki😗',\n",
              " 'in coal we trust shm! 🥺 https://t.co/T8IG7oJmZz',\n",
              " '@AbamSaham Noted Abam Saham✍️',\n",
              " '@Saham_fess Congrats!👍',\n",
              " 'RT @Covel: That’s volatility. https://t.co/y6zWbLyWbO',\n",
              " '@Saham_fess stockbit, siminvest']"
            ]
          },
          "metadata": {},
          "execution_count": 10
        }
      ]
    },
    {
      "cell_type": "code",
      "source": [
        "def remove(txt):\n",
        "  return re.sub(\"[^0-9A-za-z \\t]|(\\w+:\\/\\/\\S+)\",\"\",txt)\n",
        "\n",
        "tweet_remove_url = [remove(list_tweet) for list_tweet in all_tweet]\n",
        "tweet_remove_url[:10]"
      ],
      "metadata": {
        "colab": {
          "base_uri": "https://localhost:8080/"
        },
        "id": "zvHq916maInZ",
        "outputId": "6a692688-add4-4704-c3d3-9793202d4bac"
      },
      "execution_count": 11,
      "outputs": [
        {
          "output_type": "execute_result",
          "data": {
            "text/plain": [
              "['next coding project Screener saham with _ifzat  then a long term indie game and a home automation solution  Exciting plan ahead',\n",
              " 'Saham_fess Hold',\n",
              " 'Closing II 28 Maret 2022  kiwoomsekuritas saham hero stockmarkets ihsg ',\n",
              " 'Saham_fess Hold',\n",
              " 'Saham_fess Happy Cuanki',\n",
              " 'in coal we trust shm  ',\n",
              " 'AbamSaham Noted Abam Saham',\n",
              " 'Saham_fess Congrats',\n",
              " 'RT Covel Thats volatility ',\n",
              " 'Saham_fess stockbit siminvest']"
            ]
          },
          "metadata": {},
          "execution_count": 11
        }
      ]
    },
    {
      "cell_type": "code",
      "source": [
        "word_in_tweet = [list_tweet.lower().split() for list_tweet in tweet_remove_url]\n",
        "word_in_tweet[:1]"
      ],
      "metadata": {
        "colab": {
          "base_uri": "https://localhost:8080/"
        },
        "id": "fpxKL6CxaSsA",
        "outputId": "e4c39eed-0dd8-42a9-99d3-6060e4645d6f"
      },
      "execution_count": 12,
      "outputs": [
        {
          "output_type": "execute_result",
          "data": {
            "text/plain": [
              "[['next',\n",
              "  'coding',\n",
              "  'project',\n",
              "  'screener',\n",
              "  'saham',\n",
              "  'with',\n",
              "  '_ifzat',\n",
              "  'then',\n",
              "  'a',\n",
              "  'long',\n",
              "  'term',\n",
              "  'indie',\n",
              "  'game',\n",
              "  'and',\n",
              "  'a',\n",
              "  'home',\n",
              "  'automation',\n",
              "  'solution',\n",
              "  'exciting',\n",
              "  'plan',\n",
              "  'ahead']]"
            ]
          },
          "metadata": {},
          "execution_count": 12
        }
      ]
    },
    {
      "cell_type": "code",
      "source": [
        "list_tweet_no_url = list(iter.chain(*word_in_tweet))\n",
        "count_word_list_tweet = collections.Counter(list_tweet_no_url)\n",
        "count_word_list_tweet.most_common(25)"
      ],
      "metadata": {
        "colab": {
          "base_uri": "https://localhost:8080/"
        },
        "id": "Ze4f1823aVpL",
        "outputId": "e4857a20-a826-44f9-ee66-022b92caab8c"
      },
      "execution_count": 13,
      "outputs": [
        {
          "output_type": "execute_result",
          "data": {
            "text/plain": [
              "[('saham', 428),\n",
              " ('rt', 321),\n",
              " ('to', 315),\n",
              " ('with', 224),\n",
              " ('never', 196),\n",
              " ('try', 196),\n",
              " ('ke', 194),\n",
              " ('ok', 193),\n",
              " ('crowd', 193),\n",
              " ('ippudu', 192),\n",
              " ('kadhamma', 192),\n",
              " ('mess', 192),\n",
              " ('pawankalyan', 192),\n",
              " ('fans', 192),\n",
              " ('aa', 192),\n",
              " ('pkadmirer03', 191),\n",
              " ('saham_fess', 151),\n",
              " ('the', 141),\n",
              " ('i', 103),\n",
              " ('this', 89),\n",
              " ('of', 77),\n",
              " ('is', 63),\n",
              " ('you', 55),\n",
              " ('in', 47),\n",
              " ('amp', 44)]"
            ]
          },
          "metadata": {},
          "execution_count": 13
        }
      ]
    },
    {
      "cell_type": "code",
      "source": [
        "clean_list_tweet = pd.DataFrame(count_word_list_tweet.most_common(25), columns = ['Kata','Jumlah'])\n",
        "\n",
        "clean_list_tweet.head()"
      ],
      "metadata": {
        "colab": {
          "base_uri": "https://localhost:8080/",
          "height": 206
        },
        "id": "uyAv0H9VaXrz",
        "outputId": "43e02dc7-1ab4-4aef-97d7-9b62d111865b"
      },
      "execution_count": 14,
      "outputs": [
        {
          "output_type": "execute_result",
          "data": {
            "text/plain": [
              "    Kata  Jumlah\n",
              "0  saham     428\n",
              "1     rt     321\n",
              "2     to     315\n",
              "3   with     224\n",
              "4  never     196"
            ],
            "text/html": [
              "\n",
              "  <div id=\"df-197d76b7-7a23-496d-b429-1c6a0bb2716e\">\n",
              "    <div class=\"colab-df-container\">\n",
              "      <div>\n",
              "<style scoped>\n",
              "    .dataframe tbody tr th:only-of-type {\n",
              "        vertical-align: middle;\n",
              "    }\n",
              "\n",
              "    .dataframe tbody tr th {\n",
              "        vertical-align: top;\n",
              "    }\n",
              "\n",
              "    .dataframe thead th {\n",
              "        text-align: right;\n",
              "    }\n",
              "</style>\n",
              "<table border=\"1\" class=\"dataframe\">\n",
              "  <thead>\n",
              "    <tr style=\"text-align: right;\">\n",
              "      <th></th>\n",
              "      <th>Kata</th>\n",
              "      <th>Jumlah</th>\n",
              "    </tr>\n",
              "  </thead>\n",
              "  <tbody>\n",
              "    <tr>\n",
              "      <th>0</th>\n",
              "      <td>saham</td>\n",
              "      <td>428</td>\n",
              "    </tr>\n",
              "    <tr>\n",
              "      <th>1</th>\n",
              "      <td>rt</td>\n",
              "      <td>321</td>\n",
              "    </tr>\n",
              "    <tr>\n",
              "      <th>2</th>\n",
              "      <td>to</td>\n",
              "      <td>315</td>\n",
              "    </tr>\n",
              "    <tr>\n",
              "      <th>3</th>\n",
              "      <td>with</td>\n",
              "      <td>224</td>\n",
              "    </tr>\n",
              "    <tr>\n",
              "      <th>4</th>\n",
              "      <td>never</td>\n",
              "      <td>196</td>\n",
              "    </tr>\n",
              "  </tbody>\n",
              "</table>\n",
              "</div>\n",
              "      <button class=\"colab-df-convert\" onclick=\"convertToInteractive('df-197d76b7-7a23-496d-b429-1c6a0bb2716e')\"\n",
              "              title=\"Convert this dataframe to an interactive table.\"\n",
              "              style=\"display:none;\">\n",
              "        \n",
              "  <svg xmlns=\"http://www.w3.org/2000/svg\" height=\"24px\"viewBox=\"0 0 24 24\"\n",
              "       width=\"24px\">\n",
              "    <path d=\"M0 0h24v24H0V0z\" fill=\"none\"/>\n",
              "    <path d=\"M18.56 5.44l.94 2.06.94-2.06 2.06-.94-2.06-.94-.94-2.06-.94 2.06-2.06.94zm-11 1L8.5 8.5l.94-2.06 2.06-.94-2.06-.94L8.5 2.5l-.94 2.06-2.06.94zm10 10l.94 2.06.94-2.06 2.06-.94-2.06-.94-.94-2.06-.94 2.06-2.06.94z\"/><path d=\"M17.41 7.96l-1.37-1.37c-.4-.4-.92-.59-1.43-.59-.52 0-1.04.2-1.43.59L10.3 9.45l-7.72 7.72c-.78.78-.78 2.05 0 2.83L4 21.41c.39.39.9.59 1.41.59.51 0 1.02-.2 1.41-.59l7.78-7.78 2.81-2.81c.8-.78.8-2.07 0-2.86zM5.41 20L4 18.59l7.72-7.72 1.47 1.35L5.41 20z\"/>\n",
              "  </svg>\n",
              "      </button>\n",
              "      \n",
              "  <style>\n",
              "    .colab-df-container {\n",
              "      display:flex;\n",
              "      flex-wrap:wrap;\n",
              "      gap: 12px;\n",
              "    }\n",
              "\n",
              "    .colab-df-convert {\n",
              "      background-color: #E8F0FE;\n",
              "      border: none;\n",
              "      border-radius: 50%;\n",
              "      cursor: pointer;\n",
              "      display: none;\n",
              "      fill: #1967D2;\n",
              "      height: 32px;\n",
              "      padding: 0 0 0 0;\n",
              "      width: 32px;\n",
              "    }\n",
              "\n",
              "    .colab-df-convert:hover {\n",
              "      background-color: #E2EBFA;\n",
              "      box-shadow: 0px 1px 2px rgba(60, 64, 67, 0.3), 0px 1px 3px 1px rgba(60, 64, 67, 0.15);\n",
              "      fill: #174EA6;\n",
              "    }\n",
              "\n",
              "    [theme=dark] .colab-df-convert {\n",
              "      background-color: #3B4455;\n",
              "      fill: #D2E3FC;\n",
              "    }\n",
              "\n",
              "    [theme=dark] .colab-df-convert:hover {\n",
              "      background-color: #434B5C;\n",
              "      box-shadow: 0px 1px 3px 1px rgba(0, 0, 0, 0.15);\n",
              "      filter: drop-shadow(0px 1px 2px rgba(0, 0, 0, 0.3));\n",
              "      fill: #FFFFFF;\n",
              "    }\n",
              "  </style>\n",
              "\n",
              "      <script>\n",
              "        const buttonEl =\n",
              "          document.querySelector('#df-197d76b7-7a23-496d-b429-1c6a0bb2716e button.colab-df-convert');\n",
              "        buttonEl.style.display =\n",
              "          google.colab.kernel.accessAllowed ? 'block' : 'none';\n",
              "\n",
              "        async function convertToInteractive(key) {\n",
              "          const element = document.querySelector('#df-197d76b7-7a23-496d-b429-1c6a0bb2716e');\n",
              "          const dataTable =\n",
              "            await google.colab.kernel.invokeFunction('convertToInteractive',\n",
              "                                                     [key], {});\n",
              "          if (!dataTable) return;\n",
              "\n",
              "          const docLinkHtml = 'Like what you see? Visit the ' +\n",
              "            '<a target=\"_blank\" href=https://colab.research.google.com/notebooks/data_table.ipynb>data table notebook</a>'\n",
              "            + ' to learn more about interactive tables.';\n",
              "          element.innerHTML = '';\n",
              "          dataTable['output_type'] = 'display_data';\n",
              "          await google.colab.output.renderOutput(dataTable, element);\n",
              "          const docLink = document.createElement('div');\n",
              "          docLink.innerHTML = docLinkHtml;\n",
              "          element.appendChild(docLink);\n",
              "        }\n",
              "      </script>\n",
              "    </div>\n",
              "  </div>\n",
              "  "
            ]
          },
          "metadata": {},
          "execution_count": 14
        }
      ]
    },
    {
      "cell_type": "code",
      "source": [
        "clean_list_tweet.sort_values(by='Jumlah').plot.barh(x='Kata',y='Jumlah',color='green')"
      ],
      "metadata": {
        "colab": {
          "base_uri": "https://localhost:8080/",
          "height": 282
        },
        "id": "16I_VqEtaZ6W",
        "outputId": "621cf9c9-7a45-439a-c993-3d4d36ce7d94"
      },
      "execution_count": 15,
      "outputs": [
        {
          "output_type": "execute_result",
          "data": {
            "text/plain": [
              "<matplotlib.axes._subplots.AxesSubplot at 0x7f4c929c6750>"
            ]
          },
          "metadata": {},
          "execution_count": 15
        },
        {
          "output_type": "display_data",
          "data": {
            "text/plain": [
              "<Figure size 432x288 with 1 Axes>"
            ],
            "image/png": "[encoded data removed]"
          },
          "metadata": {
            "needs_background": "light"
          }
        }
      ]
    },
    {
      "cell_type": "code",
      "source": [
        "a=df['Time']\n",
        "tanggal=a.dt.strftime('%Y-%m-%d')\n",
        "b=tanggal.value_counts()\n",
        "b"
      ],
      "metadata": {
        "colab": {
          "base_uri": "https://localhost:8080/"
        },
        "id": "De9jGKkUariT",
        "outputId": "f12ff1dd-7a42-483c-f958-8ebee95be041"
      },
      "execution_count": 16,
      "outputs": [
        {
          "output_type": "execute_result",
          "data": {
            "text/plain": [
              "2022-03-22    112\n",
              "2022-03-23     88\n",
              "2022-03-24     82\n",
              "2022-03-25     76\n",
              "2022-03-26     54\n",
              "2022-03-27     47\n",
              "2022-03-28     41\n",
              "Name: Time, dtype: int64"
            ]
          },
          "metadata": {},
          "execution_count": 16
        }
      ]
    },
    {
      "cell_type": "code",
      "source": [
        "plt.hist(tanggal,color='#4CAF50')\n",
        "plt.xticks(rotation='vertical')\n",
        "plt.legend(['Tweet'])\n",
        "plt.xlabel('Tanggal')\n",
        "plt.ylabel('Jumlah Tweet')\n",
        "plt.show()"
      ],
      "metadata": {
        "colab": {
          "base_uri": "https://localhost:8080/",
          "height": 327
        },
        "id": "146FILartRIy",
        "outputId": "bb364906-9088-4183-b7b3-fe3e59020414"
      },
      "execution_count": 17,
      "outputs": [
        {
          "output_type": "display_data",
          "data": {
            "text/plain": [
              "<Figure size 432x288 with 1 Axes>"
            ],
            "image/png": "[encoded data removed]"
          },
          "metadata": {
            "needs_background": "light"
          }
        }
      ]
    },
    {
      "cell_type": "code",
      "source": [
        "plt.plot(df['Time'],df['Retweets Count'])\n",
        "plt.xticks(rotation='vertical')\n",
        "plt.legend(['Retweets'])\n",
        "plt.xlabel('Waktu')\n",
        "plt.ylabel('Jumlah Retweets')\n",
        "plt.show()"
      ],
      "metadata": {
        "colab": {
          "base_uri": "https://localhost:8080/",
          "height": 327
        },
        "id": "FfL2ShesbmCr",
        "outputId": "717b5dfe-0ab2-4871-c7f2-60ecf37910a3"
      },
      "execution_count": 18,
      "outputs": [
        {
          "output_type": "display_data",
          "data": {
            "text/plain": [
              "<Figure size 432x288 with 1 Axes>"
            ],
            "image/png": "[encoded data removed]"
          },
          "metadata": {
            "needs_background": "light"
          }
        }
      ]
    },
    {
      "cell_type": "code",
      "source": [
        "plt.plot(df['Time'],df['Favorite'],color='red')\n",
        "plt.xticks(rotation='vertical')\n",
        "plt.legend(['Favorite'])\n",
        "plt.xlabel('Waktu')\n",
        "plt.ylabel('Jumlah Favorite')\n",
        "plt.show()"
      ],
      "metadata": {
        "colab": {
          "base_uri": "https://localhost:8080/",
          "height": 327
        },
        "id": "_fztigG71uu6",
        "outputId": "a01ef986-22a7-4040-8c2c-4d5c058020e4"
      },
      "execution_count": 19,
      "outputs": [
        {
          "output_type": "display_data",
          "data": {
            "text/plain": [
              "<Figure size 432x288 with 1 Axes>"
            ],
            "image/png": "[encoded data removed]"
          },
          "metadata": {
            "needs_background": "light"
          }
        }
      ]
    },
    {
      "cell_type": "code",
      "source": [
        "plt.plot(df['Time'],df['User Status Count'],color='hotpink')\n",
        "plt.xticks(rotation='vertical')\n",
        "plt.legend(['User Status'])\n",
        "plt.xlabel('Waktu')\n",
        "plt.ylabel('Jumlah User Status')\n",
        "plt.show()"
      ],
      "metadata": {
        "colab": {
          "base_uri": "https://localhost:8080/",
          "height": 327
        },
        "id": "D5lNbb_jp9gE",
        "outputId": "339cbf06-23d2-436c-c108-978f6314740d"
      },
      "execution_count": 20,
      "outputs": [
        {
          "output_type": "display_data",
          "data": {
            "text/plain": [
              "<Figure size 432x288 with 1 Axes>"
            ],
            "image/png": "[encoded data removed]"
          },
          "metadata": {
            "needs_background": "light"
          }
        }
      ]
    },
    {
      "cell_type": "code",
      "source": [
        "plt.bar(df['Device'],df['Favorite'],color='#4CAF50')\n",
        "plt.xticks(rotation='vertical')\n",
        "plt.legend(['Like'])\n",
        "plt.xlabel('Device')\n",
        "plt.ylabel('Jumlah Like')\n",
        "plt.show()"
      ],
      "metadata": {
        "colab": {
          "base_uri": "https://localhost:8080/",
          "height": 490
        },
        "id": "qgZmyMW_lAru",
        "outputId": "2eaeb079-5bba-4eae-ee59-90d53d05b219"
      },
      "execution_count": 21,
      "outputs": [
        {
          "output_type": "stream",
          "name": "stderr",
          "text": [
            "/usr/local/lib/python3.7/dist-packages/matplotlib/backends/backend_agg.py:214: RuntimeWarning: Glyph 128200 missing from current font.\n",
            "  font.set_text(s, 0.0, flags=flags)\n",
            "/usr/local/lib/python3.7/dist-packages/matplotlib/backends/backend_agg.py:183: RuntimeWarning: Glyph 128200 missing from current font.\n",
            "  font.set_text(s, 0, flags=flags)\n"
          ]
        },
        {
          "output_type": "display_data",
          "data": {
            "text/plain": [
              "<Figure size 432x288 with 1 Axes>"
            ],
            "image/png": "[encoded data removed]"
          },
          "metadata": {
            "needs_background": "light"
          }
        }
      ]
    },
    {
      "cell_type": "code",
      "source": [
        "plt.bar(df['Device'],df['Retweets Count'],color='hotpink')\n",
        "plt.xticks(rotation='vertical')\n",
        "plt.legend(['Retweets'])\n",
        "plt.xlabel('Device')\n",
        "plt.ylabel('Jumlah Retweets')\n",
        "plt.show()"
      ],
      "metadata": {
        "colab": {
          "base_uri": "https://localhost:8080/",
          "height": 490
        },
        "id": "VUMSyE3lpU3s",
        "outputId": "e980dae2-fef3-44ef-cb85-67057a6208d4"
      },
      "execution_count": 22,
      "outputs": [
        {
          "output_type": "stream",
          "name": "stderr",
          "text": [
            "/usr/local/lib/python3.7/dist-packages/matplotlib/backends/backend_agg.py:214: RuntimeWarning: Glyph 128200 missing from current font.\n",
            "  font.set_text(s, 0.0, flags=flags)\n",
            "/usr/local/lib/python3.7/dist-packages/matplotlib/backends/backend_agg.py:183: RuntimeWarning: Glyph 128200 missing from current font.\n",
            "  font.set_text(s, 0, flags=flags)\n"
          ]
        },
        {
          "output_type": "display_data",
          "data": {
            "text/plain": [
              "<Figure size 432x288 with 1 Axes>"
            ],
            "image/png": "[encoded data removed]"
          },
          "metadata": {
            "needs_background": "light"
          }
        }
      ]
    },
    {
      "cell_type": "code",
      "source": [
        "plt.bar(df['Device'],df['User Status Count'])\n",
        "plt.xticks(rotation='vertical')\n",
        "plt.legend(['User Status'])\n",
        "plt.xlabel('Device')\n",
        "plt.ylabel('Jumlah User Status')\n",
        "plt.show()"
      ],
      "metadata": {
        "colab": {
          "base_uri": "https://localhost:8080/",
          "height": 490
        },
        "id": "cB6Qw982pePJ",
        "outputId": "0f89e06e-f5e6-4099-f246-b685ade369d8"
      },
      "execution_count": 23,
      "outputs": [
        {
          "output_type": "stream",
          "name": "stderr",
          "text": [
            "/usr/local/lib/python3.7/dist-packages/matplotlib/backends/backend_agg.py:214: RuntimeWarning: Glyph 128200 missing from current font.\n",
            "  font.set_text(s, 0.0, flags=flags)\n",
            "/usr/local/lib/python3.7/dist-packages/matplotlib/backends/backend_agg.py:183: RuntimeWarning: Glyph 128200 missing from current font.\n",
            "  font.set_text(s, 0, flags=flags)\n"
          ]
        },
        {
          "output_type": "display_data",
          "data": {
            "text/plain": [
              "<Figure size 432x288 with 1 Axes>"
            ],
            "image/png": "[encoded data removed]"
          },
          "metadata": {
            "needs_background": "light"
          }
        }
      ]
    },
    {
      "cell_type": "code",
      "source": [
        "plt.hist(df['Device'],color='#4CAF50')\n",
        "plt.xticks(rotation='vertical')\n",
        "plt.legend(['Device'])\n",
        "plt.xlabel('Histogram Device')\n",
        "plt.ylabel('Jumlah Device')\n",
        "plt.show()"
      ],
      "metadata": {
        "colab": {
          "base_uri": "https://localhost:8080/",
          "height": 490
        },
        "id": "bYwsyUM_sbc5",
        "outputId": "e279a29d-8a53-4f9e-9c34-4e65b6b1838f"
      },
      "execution_count": 24,
      "outputs": [
        {
          "output_type": "stream",
          "name": "stderr",
          "text": [
            "/usr/local/lib/python3.7/dist-packages/matplotlib/backends/backend_agg.py:214: RuntimeWarning: Glyph 128200 missing from current font.\n",
            "  font.set_text(s, 0.0, flags=flags)\n",
            "/usr/local/lib/python3.7/dist-packages/matplotlib/backends/backend_agg.py:183: RuntimeWarning: Glyph 128200 missing from current font.\n",
            "  font.set_text(s, 0, flags=flags)\n"
          ]
        },
        {
          "output_type": "display_data",
          "data": {
            "text/plain": [
              "<Figure size 432x288 with 1 Axes>"
            ],
            "image/png": "[encoded data removed]"
          },
          "metadata": {
            "needs_background": "light"
          }
        }
      ]
    }
  ]
}